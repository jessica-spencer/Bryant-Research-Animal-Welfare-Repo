{
 "cells": [
  {
   "cell_type": "code",
   "execution_count": 1,
   "metadata": {},
   "outputs": [],
   "source": [
    "import pandas as pd\n",
    "import numpy as np\n",
    "import matplotlib.pyplot as plt\n",
    "from sklearn.preprocessing import StandardScaler\n",
    "from sklearn.decomposition import PCA\n",
    "from sklearn.cluster import KMeans\n",
    "from sklearn.metrics import silhouette_score\n",
    "import seaborn as sns\n",
    "\n",
    "# Load the data\n",
    "# Replace 'your_file.csv' with your actual file path\n",
    "# For this example, I'm assuming the pasted data is saved as a CSV\n",
    "df = pd.read_csv('data/summer_survey_2024_cleaned.csv')\n"
   ]
  },
  {
   "cell_type": "code",
   "execution_count": 15,
   "metadata": {},
   "outputs": [
    {
     "name": "stdout",
     "output_type": "stream",
     "text": [
      "Index(['time_taken', 'gender', 'age', 'region', 'urbanicity', 'education',\n",
      "       'would_vote_for', 'political_orientation', 'ethnicity', 'religion',\n",
      "       ...\n",
      "       'neophobia_sampling_new_foods_numeric',\n",
      "       'neophobia_dont_trust_new_foods_numeric',\n",
      "       'neophobia_dont_try_unknown_food_numeric',\n",
      "       'neophobia_particular_about_food_numeric',\n",
      "       'neophobia_like_foods_different_countries_numeric',\n",
      "       'meat_attachment_total_score', 'dairy_attachment_total_score',\n",
      "       'neophobia_total_score', 'has_cat', 'has_dog'],\n",
      "      dtype='object', length=182)\n"
     ]
    }
   ],
   "source": [
    "print(df.columns)\n"
   ]
  },
  {
   "cell_type": "code",
   "execution_count": null,
   "metadata": {},
   "outputs": [],
   "source": [
    "# Data preprocessing\n",
    "# Select relevant features for clustering\n",
    "# I'll focus on food consumption patterns, attitudes towards meat/dairy, and dietary preferences\n",
    "\n",
    "# Select numeric features related to consumption, attitudes, and preferences\n",
    "features = [\n",
    "    # Consumption patterns\n",
    "    'red_meat_consumption_3mo_numeric', 'poultry_consumption_3mo_numeric', \n",
    "    'seafood_consumption_3mo_numeric', 'dairy_consumption_3mo_numeric',\n",
    "    'egg_consumption_3mo_numeric', 'pb_meat_consumption_3mo_numeric',\n",
    "    'pb_milk_consumption_3mo_numeric', 'pb_dairy_consumption_3mo_numeric',\n",
    "    'fruits_vegetables_consumption_3mo_numeric',\n",
    "    \n",
    "    # Attitudes toward meat and dairy\n",
    "    'ma_fan_of_meat_numeric', 'ma_feel_bad_eating_meat_numeric', 'ma_meat_right_numeric',\n",
    "    'ma_meat_irreplaceable_numeric', 'ma_fine_meatless_diet_numeric',\n",
    "    'da_fan_of_dairy_numeric', 'da_feel_bad_eating_dairy_numeric', 'da_dairy_right_numeric',\n",
    "    'da_dairy_irreplaceable_numeric', 'da_fine_no_dairy_numeric',\n",
    "    \n",
    "    # Other relevant attitudes\n",
    "    'animal_welfare_important', 'reduce_meat_consumption_important',\n",
    "    'political_orientation_numeric', 'neophobia_total_score', 'urbanicity','would_vote_for', 'political_orientation', 'ethnicity', 'religion',\n",
    "]"
   ]
  },
  {
   "cell_type": "code",
   "execution_count": 3,
   "metadata": {},
   "outputs": [],
   "source": [
    "# Drop rows with too many missing values in our selected features\n",
    "X = df[features].copy()\n",
    "X = X.dropna(thresh=len(features) * 0.7)  # Keep rows with at least 70% of values\n",
    "\n",
    "# Fill remaining missing values with median\n",
    "for col in X.columns:\n",
    "    X[col] = X[col].fillna(X[col].median())\n",
    "\n",
    "# Standardize the features\n",
    "scaler = StandardScaler()\n",
    "X_scaled = scaler.fit_transform(X)"
   ]
  },
  {
   "cell_type": "code",
   "execution_count": 4,
   "metadata": {},
   "outputs": [
    {
     "name": "stdout",
     "output_type": "stream",
     "text": [
      "Finding optimal number of clusters...\n",
      "For n_clusters = 2, silhouette score is 0.2149891455849484\n",
      "For n_clusters = 3, silhouette score is 0.11637462247865331\n",
      "For n_clusters = 4, silhouette score is 0.11186725740042877\n",
      "For n_clusters = 5, silhouette score is 0.09326144230863068\n",
      "For n_clusters = 6, silhouette score is 0.07836831835137299\n",
      "For n_clusters = 7, silhouette score is 0.07885427356117249\n",
      "For n_clusters = 8, silhouette score is 0.07950977967012789\n"
     ]
    }
   ],
   "source": [
    "# Function to determine optimal number of clusters using silhouette score\n",
    "def find_optimal_clusters(data, max_clusters=10):\n",
    "    silhouette_scores = []\n",
    "    for n_clusters in range(2, max_clusters + 1):\n",
    "        kmeans = KMeans(n_clusters=n_clusters, random_state=42, n_init=10)\n",
    "        cluster_labels = kmeans.fit_predict(data)\n",
    "        silhouette_avg = silhouette_score(data, cluster_labels)\n",
    "        silhouette_scores.append(silhouette_avg)\n",
    "        print(f\"For n_clusters = {n_clusters}, silhouette score is {silhouette_avg}\")\n",
    "    \n",
    "    return silhouette_scores\n",
    "\n",
    "# Find optimal number of clusters\n",
    "print(\"Finding optimal number of clusters...\")\n",
    "silhouette_scores = find_optimal_clusters(X_scaled, max_clusters=8)\n"
   ]
  },
  {
   "cell_type": "code",
   "execution_count": 12,
   "metadata": {},
   "outputs": [],
   "source": [
    "# Plot silhouette scores\n",
    "plt.figure(figsize=(10, 6))\n",
    "plt.plot(range(2, 9), silhouette_scores, 'bo-')\n",
    "plt.xlabel('Number of Clusters')\n",
    "plt.ylabel('Silhouette Score')\n",
    "plt.title('Silhouette Score Method for Optimal k')\n",
    "plt.savefig('silhouette_scores.png')\n",
    "plt.close()"
   ]
  },
  {
   "cell_type": "code",
   "execution_count": 5,
   "metadata": {},
   "outputs": [
    {
     "name": "stdout",
     "output_type": "stream",
     "text": [
      "Optimal number of clusters: 2\n"
     ]
    }
   ],
   "source": [
    "# Choose optimal number of clusters based on silhouette score\n",
    "optimal_clusters = np.argmax(silhouette_scores) + 2  # +2 because we start from 2 clusters\n",
    "print(f\"Optimal number of clusters: {optimal_clusters}\")"
   ]
  },
  {
   "cell_type": "code",
   "execution_count": 6,
   "metadata": {},
   "outputs": [],
   "source": [
    "# Apply K-means clustering with optimal clusters\n",
    "kmeans = KMeans(n_clusters=optimal_clusters, random_state=42, n_init=10)\n",
    "df_clustered = X.copy()\n",
    "df_clustered['cluster'] = kmeans.fit_predict(X_scaled)"
   ]
  },
  {
   "cell_type": "code",
   "execution_count": 7,
   "metadata": {},
   "outputs": [],
   "source": [
    "# Apply PCA for visualization\n",
    "pca = PCA(n_components=2)\n",
    "principal_components = pca.fit_transform(X_scaled)\n",
    "pca_df = pd.DataFrame(data=principal_components, columns=['PC1', 'PC2'])\n",
    "pca_df['cluster'] = df_clustered['cluster']\n",
    "\n",
    "# Plot clusters\n",
    "plt.figure(figsize=(12, 8))\n",
    "sns.scatterplot(x='PC1', y='PC2', hue='cluster', data=pca_df, palette='viridis', s=100)\n",
    "plt.title(f'Clusters of Dietary Patterns (K={optimal_clusters})')\n",
    "plt.savefig('diet_clusters.png')\n",
    "plt.close()"
   ]
  },
  {
   "cell_type": "code",
   "execution_count": 8,
   "metadata": {},
   "outputs": [
    {
     "name": "stdout",
     "output_type": "stream",
     "text": [
      "\n",
      "Cluster Profiles:\n",
      "         red_meat_consumption_3mo_numeric  poultry_consumption_3mo_numeric  \\\n",
      "cluster                                                                      \n",
      "0                                3.263482                         3.889060   \n",
      "1                                1.257485                         2.077844   \n",
      "\n",
      "         seafood_consumption_3mo_numeric  dairy_consumption_3mo_numeric  \\\n",
      "cluster                                                                   \n",
      "0                               2.781202                       5.163328   \n",
      "1                               1.934132                       4.332335   \n",
      "\n",
      "         egg_consumption_3mo_numeric  pb_meat_consumption_3mo_numeric  \\\n",
      "cluster                                                                 \n",
      "0                           3.656394                         0.531587   \n",
      "1                           3.056886                         2.350299   \n",
      "\n",
      "         pb_milk_consumption_3mo_numeric  pb_dairy_consumption_3mo_numeric  \\\n",
      "cluster                                                                      \n",
      "0                               0.636364                          0.249615   \n",
      "1                               2.754491                          1.649701   \n",
      "\n",
      "         fruits_vegetables_consumption_3mo_numeric  ma_fan_of_meat_numeric  \\\n",
      "cluster                                                                      \n",
      "0                                         4.956857                4.178737   \n",
      "1                                         5.778443                2.302395   \n",
      "\n",
      "         ...  ma_fine_meatless_diet_numeric  da_fan_of_dairy_numeric  \\\n",
      "cluster  ...                                                           \n",
      "0        ...                       3.765794                 4.228043   \n",
      "1        ...                       1.958084                 3.577844   \n",
      "\n",
      "         da_feel_bad_eating_dairy_numeric  da_dairy_right_numeric  \\\n",
      "cluster                                                             \n",
      "0                                4.318952                 3.55470   \n",
      "1                                3.395210                 2.58982   \n",
      "\n",
      "         da_dairy_irreplaceable_numeric  da_fine_no_dairy_numeric  \\\n",
      "cluster                                                             \n",
      "0                              3.742681                  3.815100   \n",
      "1                              2.691617                  2.907186   \n",
      "\n",
      "         animal_welfare_important  reduce_meat_consumption_important  \\\n",
      "cluster                                                                \n",
      "0                        3.352851                           2.466872   \n",
      "1                        4.200599                           4.146707   \n",
      "\n",
      "         political_orientation_numeric  neophobia_total_score  \n",
      "cluster                                                        \n",
      "0                             4.215716              13.397535  \n",
      "1                             5.197605              13.050898  \n",
      "\n",
      "[2 rows x 23 columns]\n"
     ]
    }
   ],
   "source": [
    "# Analyze clusters\n",
    "# For each cluster, calculate mean values of key features\n",
    "cluster_profiles = df_clustered.groupby('cluster').mean()\n",
    "print(\"\\nCluster Profiles:\")\n",
    "print(cluster_profiles)\n",
    "\n",
    "# Save cluster profiles to CSV\n",
    "cluster_profiles.to_csv('cluster_profiles.csv')\n"
   ]
  },
  {
   "cell_type": "code",
   "execution_count": 13,
   "metadata": {},
   "outputs": [],
   "source": [
    "# Radar chart to visualize cluster differences\n",
    "def radar_chart(cluster_profiles, category_names):\n",
    "    # Select a subset of relevant features for clarity\n",
    "    selected_features = features\n",
    "    \n",
    "    subset = cluster_profiles[selected_features]\n",
    "    \n",
    "    # Scale the data for radar chart\n",
    "    scaler_radar = StandardScaler()\n",
    "    subset_scaled = pd.DataFrame(scaler_radar.fit_transform(subset),\n",
    "                                 index=subset.index,\n",
    "                                 columns=subset.columns)\n",
    "    \n",
    "    # Number of variables\n",
    "    categories = selected_features\n",
    "    N = len(categories)\n",
    "    \n",
    "    # Create angles for each feature\n",
    "    angles = [n / float(N) * 2 * np.pi for n in range(N)]\n",
    "    angles += angles[:1]  # Close the loop\n",
    "    \n",
    "    # Create radar plot\n",
    "    fig, ax = plt.subplots(figsize=(12, 10), subplot_kw=dict(polar=True))\n",
    "    \n",
    "    # Draw one axis per variable and add labels\n",
    "    plt.xticks(angles[:-1], categories, size=12)\n",
    "    \n",
    "    # Draw y-axis labels\n",
    "    ax.set_rlabel_position(0)\n",
    "    \n",
    "    # Plot each cluster\n",
    "    for i, cluster in enumerate(subset_scaled.index):\n",
    "        values = subset_scaled.loc[cluster].values.tolist()\n",
    "        values += values[:1]  # Close the loop\n",
    "        ax.plot(angles, values, linewidth=2, linestyle='solid', label=f'Cluster {cluster}')\n",
    "        ax.fill(angles, values, alpha=0.1)\n",
    "    \n",
    "    # Add legend\n",
    "    plt.legend(loc='upper right', bbox_to_anchor=(0.1, 0.1))\n",
    "    plt.title('Cluster Profiles: Key Dietary and Attitude Features', size=15)\n",
    "    plt.savefig('cluster_radar_chart.png')\n",
    "    plt.close()\n",
    "\n",
    "# Create radar chart\n",
    "radar_chart(cluster_profiles, features)\n",
    "\n",
    "#"
   ]
  },
  {
   "cell_type": "code",
   "execution_count": null,
   "metadata": {},
   "outputs": [
    {
     "name": "stdout",
     "output_type": "stream",
     "text": [
      "\n",
      "Demographic Analysis by Cluster:\n",
      "               age  gender                        education  \\\n",
      "cluster                                                       \n",
      "0        47.108025    male  Bachelor's degree or equivalent   \n",
      "1        46.582583  female  Bachelor's degree or equivalent   \n",
      "\n",
      "        political_orientation  \n",
      "cluster                        \n",
      "0             Liberal-leaning  \n",
      "1                     Liberal  \n",
      "\n",
      "Clustering analysis complete. Results saved to CSV files and images.\n"
     ]
    }
   ],
   "source": [
    "# Add demographic analysis of clusters\n",
    "if 'age' in df.columns and 'gender' in df.columns:\n",
    "    # Join original demographic data with clusters\n",
    "    demographic_df = df[['age', 'gender', 'education', 'political_orientation']].copy()\n",
    "    demographic_df = demographic_df.iloc[df_clustered.index]\n",
    "    demographic_df['cluster'] = df_clustered['cluster']\n",
    "    \n",
    "    # Analyze demographics by cluster\n",
    "    demographic_analysis = demographic_df.groupby('cluster').agg({\n",
    "        'age': 'mean',\n",
    "        'gender': lambda x: x.value_counts().index[0],  # Most common gender\n",
    "        'education': lambda x: x.value_counts().index[0],  # Most common education\n",
    "        'political_orientation': lambda x: x.value_counts().index[0]  # Most common political orientation\n",
    "    })\n",
    "    \n",
    "    print(\"\\nDemographic Analysis by Cluster:\")\n",
    "    print(demographic_analysis)\n",
    "    demographic_analysis.to_csv('cluster_demographics.csv')"
   ]
  },
  {
   "cell_type": "code",
   "execution_count": null,
   "metadata": {},
   "outputs": [],
   "source": []
  }
 ],
 "metadata": {
  "kernelspec": {
   "display_name": "base",
   "language": "python",
   "name": "python3"
  },
  "language_info": {
   "codemirror_mode": {
    "name": "ipython",
    "version": 3
   },
   "file_extension": ".py",
   "mimetype": "text/x-python",
   "name": "python",
   "nbconvert_exporter": "python",
   "pygments_lexer": "ipython3",
   "version": "3.12.2"
  }
 },
 "nbformat": 4,
 "nbformat_minor": 2
}
